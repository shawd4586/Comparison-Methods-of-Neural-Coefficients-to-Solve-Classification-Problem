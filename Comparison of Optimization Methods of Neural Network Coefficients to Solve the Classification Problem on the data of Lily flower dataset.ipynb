{
 "cells": [
  {
   "cell_type": "code",
   "execution_count": 1,
   "metadata": {},
   "outputs": [
    {
     "name": "stderr",
     "output_type": "stream",
     "text": [
      "C:\\Users\\shadi\\anaconda3\\lib\\site-packages\\sklearn\\externals\\six.py:31: FutureWarning: The module is deprecated in version 0.21 and will be removed in version 0.23 since we've dropped support for Python 2.7. Please rely on the official version of six (https://pypi.org/project/six/).\n",
      "  \"(https://pypi.org/project/six/).\", FutureWarning)\n"
     ]
    }
   ],
   "source": [
    "import mlrose\n",
    "import numpy as np"
   ]
  },
  {
   "cell_type": "code",
   "execution_count": 2,
   "metadata": {},
   "outputs": [
    {
     "name": "stdout",
     "output_type": "stream",
     "text": [
      "The feature values for Obs 0 are:  [5.1 3.5 1.4 0.2]\n",
      "The feature names are:  ['sepal length (cm)', 'sepal width (cm)', 'petal length (cm)', 'petal width (cm)']\n",
      "The target value for Obs 0 is: 0\n",
      "The target name for Obs 0 is: setosa\n",
      "The minimum values of the four features are: [4.3 2.  1.  0.1]\n",
      "The maximum values of the four features are: [7.9 4.4 6.9 2.5]\n",
      "The unique target values are: [0 1 2]\n"
     ]
    }
   ],
   "source": [
    "from sklearn.datasets import load_iris\n",
    "    \n",
    "data = load_iris()\n",
    "\n",
    "print('The feature values for Obs 0 are: ', data.data[0])\n",
    "\n",
    "print('The feature names are: ', data.feature_names)\n",
    "\n",
    "print('The target value for Obs 0 is:', data.target[0])\n",
    "\n",
    "print('The target name for Obs 0 is:', data.target_names[data.target[0]])\n",
    "\n",
    "print('The minimum values of the four features are:', np.min(data.data, axis = 0))\n",
    "\n",
    "print('The maximum values of the four features are:', np.max(data.data, axis = 0))\n",
    "\n",
    "print('The unique target values are:', np.unique(data.target))"
   ]
  },
  {
   "cell_type": "code",
   "execution_count": 3,
   "metadata": {},
   "outputs": [],
   "source": [
    "from sklearn.model_selection import train_test_split\n",
    "from sklearn.preprocessing import MinMaxScaler, OneHotEncoder\n",
    "\n",
    "X_train, X_test, y_train, y_test = train_test_split(data.data, data.target,\n",
    "                                                    test_size = 0.2, random_state = 3)\n",
    "\n",
    "scaler = MinMaxScaler()\n",
    "\n",
    "X_train_scaled = scaler.fit_transform(X_train)\n",
    "X_test_scaled = scaler.transform(X_test)\n",
    "\n",
    "one_hot = OneHotEncoder()\n",
    "\n",
    "y_train_hot = one_hot.fit_transform(y_train.reshape(-1, 1)).todense()\n",
    "y_test_hot = one_hot.transform(y_test.reshape(-1, 1)).todense()"
   ]
  },
  {
   "cell_type": "code",
   "execution_count": 4,
   "metadata": {},
   "outputs": [
    {
     "data": {
      "text/plain": [
       "NeuralNetwork(bias=True, clip_max=5, early_stopping=True, hidden_nodes=[2],\n",
       "              is_classifier=True, learning_rate=0.0001, max_iters=1000,\n",
       "              mutation_prob=0.1, pop_size=200, restarts=0,\n",
       "              schedule=<mlrose.decay.GeomDecay object at 0x00000264B1D6C448>)"
      ]
     },
     "execution_count": 4,
     "metadata": {},
     "output_type": "execute_result"
    }
   ],
   "source": [
    "nn_model1 = mlrose.NeuralNetwork(hidden_nodes = [2], activation = 'relu',\n",
    "                                 algorithm = 'random_hill_climb', max_iters = 1000,\n",
    "                                 bias = True, is_classifier = True, learning_rate = 0.0001,\n",
    "                                 early_stopping = True, clip_max = 5, max_attempts = 100,\n",
    "                 random_state = 3)\n",
    "\n",
    "nn_model1.fit(X_train_scaled, y_train_hot)"
   ]
  },
  {
   "cell_type": "code",
   "execution_count": 5,
   "metadata": {},
   "outputs": [
    {
     "name": "stdout",
     "output_type": "stream",
     "text": [
      "Training accuracy:  0.45\n",
      "Test accuracy:  0.5333333333333333\n"
     ]
    }
   ],
   "source": [
    "from sklearn.metrics import accuracy_score\n",
    "\n",
    "y_train_pred = nn_model1.predict(X_train_scaled)\n",
    "\n",
    "y_train_accuracy = accuracy_score(y_train_hot, y_train_pred)\n",
    "\n",
    "print('Training accuracy: ', y_train_accuracy)\n",
    "\n",
    "y_test_pred = nn_model1.predict(X_test_scaled)\n",
    "\n",
    "y_test_accuracy = accuracy_score(y_test_hot, y_test_pred)\n",
    "\n",
    "print('Test accuracy: ', y_test_accuracy)"
   ]
  },
  {
   "cell_type": "code",
   "execution_count": 7,
   "metadata": {
    "scrolled": true
   },
   "outputs": [
    {
     "name": "stdout",
     "output_type": "stream",
     "text": [
      "Training accuracy:  0.625\n",
      "Test accuracy:  0.5666666666666667\n"
     ]
    }
   ],
   "source": [
    "#Comparison of Optimization Methods of Neural Network Coefficients to\n",
    "#Solve the Classification Problem on the data of Lily flower dataset,#neural network object and fit object\n",
    "nn_model2 = mlrose.NeuralNetwork(hidden_nodes = [2], activation = 'relu',\n",
    "                                 algorithm = 'gradient_descent', max_iters = 1000,\n",
    "                                 bias = True, is_classifier = True, learning_rate = 0.0001,\n",
    "                                 early_stopping = True, clip_max = 5, max_attempts = 100,\n",
    "                                 random_state = 3)\n",
    "\n",
    "nn_model2.fit(X_train_scaled, y_train_hot)\n",
    "\n",
    "y_train_pred = nn_model2.predict(X_train_scaled)\n",
    "\n",
    "y_train_accuracy = accuracy_score(y_train_hot, y_train_pred)\n",
    "\n",
    "print('Training accuracy: ', y_train_accuracy)\n",
    "\n",
    "y_test_pred = nn_model2.predict(X_test_scaled)\n",
    "\n",
    "y_test_accuracy = accuracy_score(y_test_hot, y_test_pred)\n",
    "\n",
    "print('Test accuracy: ', y_test_accuracy)"
   ]
  },
  {
   "cell_type": "code",
   "execution_count": 8,
   "metadata": {},
   "outputs": [],
   "source": [
    "lr_nn_model1 = mlrose.NeuralNetwork(hidden_nodes = [], activation = 'sigmoid',\n",
    "                                    algorithm = 'random_hill_climb', max_iters = 1000,\n",
    "                                    bias = True, is_classifier = True, learning_rate = 0.0001,\n",
    "                                    early_stopping = True, clip_max = 5, max_attempts = 100,\n",
    "                                    random_state = 3)"
   ]
  },
  {
   "cell_type": "code",
   "execution_count": null,
   "metadata": {},
   "outputs": [],
   "source": [
    "#logistic regression object and fit object\n",
    "lr_model1 = mlrose.LogisticRegression(algorithm = 'random_hill_climb', max_iters = 1000,\n",
    "                                      bias = True, learning_rate = 0.0001,\n",
    "                                      early_stopping = True, clip_max = 5, max_attempts = 100,\n",
    "                                      random_state = 3)\n",
    "\n",
    "lr_model1.fit(X_train_scaled, y_train_hot)\n",
    "\n",
    "y_train_pred = lr_model1.predict(X_train_scaled)\n",
    "\n",
    "y_train_accuracy = accuracy_score(y_train_hot, y_train_pred)\n",
    "\n",
    "print('Training accuracy: ', y_train_accuracy)\n",
    "\n",
    "y_test_pred = lr_model1.predict(X_test_scaled)\n",
    "\n",
    "y_test_accuracy = accuracy_score(y_test_hot, y_test_pred)\n",
    "\n",
    "print('Test accuracy: ', y_test_accuracy)"
   ]
  },
  {
   "cell_type": "code",
   "execution_count": null,
   "metadata": {},
   "outputs": [],
   "source": [
    "#logistic regression object and fit object\n",
    "lr_model2 = mlrose.LogisticRegression(algorithm = 'random_hill_climb', max_iters = 1000,\n",
    "                                      bias = True, learning_rate = 0.01,\n",
    "                                      early_stopping = True, clip_max = 5, max_attempts = 100,\n",
    "                                      random_state = 3)\n",
    "\n",
    "lr_model2.fit(X_train_scaled, y_train_hot)\n",
    "\n",
    "y_train_pred = lr_model2.predict(X_train_scaled)\n",
    "\n",
    "y_train_accuracy = accuracy_score(y_train_hot, y_train_pred)\n",
    "\n",
    "print('Training accuracy: ', y_train_accuracy)\n",
    "\n",
    "y_test_pred = lr_model2.predict(X_test_scaled)\n",
    "\n",
    "y_test_accuracy = accuracy_score(y_test_hot, y_test_pred)\n",
    "\n",
    "print('Test accuracy: ', y_test_accuracy)"
   ]
  },
  {
   "cell_type": "code",
   "execution_count": null,
   "metadata": {},
   "outputs": [],
   "source": []
  },
  {
   "cell_type": "code",
   "execution_count": null,
   "metadata": {},
   "outputs": [],
   "source": []
  }
 ],
 "metadata": {
  "kernelspec": {
   "display_name": "Python 3",
   "language": "python",
   "name": "python3"
  },
  "language_info": {
   "codemirror_mode": {
    "name": "ipython",
    "version": 3
   },
   "file_extension": ".py",
   "mimetype": "text/x-python",
   "name": "python",
   "nbconvert_exporter": "python",
   "pygments_lexer": "ipython3",
   "version": "3.7.6"
  }
 },
 "nbformat": 4,
 "nbformat_minor": 4
}
